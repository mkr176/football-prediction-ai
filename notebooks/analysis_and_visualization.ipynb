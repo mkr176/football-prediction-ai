{
 "cells": [
  {
   "cell_type": "markdown",
   "metadata": {},
   "source": [
    "# Football Prediction AI - Analysis & Visualization\n",
    "## Inspired by 85% Accuracy Tennis Predictions\n",
    "\n",
    "This notebook provides analysis and visualization of our football prediction model performance."
   ]
  },
  {
   "cell_type": "code",
   "execution_count": null,
   "metadata": {},
   "outputs": [],
   "source": [
    "import pandas as pd\n",
    "import numpy as np\n",
    "import matplotlib.pyplot as plt\n",
    "import seaborn as sns\n",
    "import plotly.express as px\n",
    "import plotly.graph_objects as go\n",
    "from plotly.subplots import make_subplots\n",
    "import sys\n",
    "sys.path.append('../src')\n",
    "\n",
    "# Set style\n",
    "plt.style.use('default')\n",
    "sns.set_palette(\"husl\")\n",
    "\n",
    "# Display options\n",
    "pd.set_option('display.max_columns', None)\n",
    "pd.set_option('display.width', None)"
   ]
  },
  {
   "cell_type": "markdown",
   "metadata": {},
   "source": [
    "## 1. Data Loading and Exploration"
   ]
  },
  {
   "cell_type": "code",
   "execution_count": null,
   "metadata": {},
   "outputs": [],
   "source": [
    "# Load data\n",
    "try:\n",
    "    team_stats = pd.read_csv('../data/all_team_stats.csv')\n",
    "    match_results = pd.read_csv('../data/all_match_results.csv')\n",
    "    match_features = pd.read_csv('../data/match_features.csv')\n",
    "    \n",
    "    print(\"Data loaded successfully!\")\n",
    "    print(f\"Team stats: {len(team_stats)} records\")\n",
    "    print(f\"Match results: {len(match_results)} records\")\n",
    "    print(f\"Match features: {len(match_features)} records\")\nexcept FileNotFoundError as e:\n",
    "    print(f\"Error loading data: {e}\")\n",
    "    print(\"Please run the data collection scripts first.\")"
   ]
  },
  {
   "cell_type": "code",
   "execution_count": null,
   "metadata": {},
   "outputs": [],
   "source": [
    "# Display data info\n",
    "if 'team_stats' in locals():\n",
    "    print(\"Team Stats Overview:\")\n",
    "    display(team_stats.head())\n",
    "    print(\"\\nTeam Stats Info:\")\n",
    "    print(team_stats.info())"
   ]
  },
  {
   "cell_type": "markdown",
   "metadata": {},
   "source": [
    "## 2. Team Performance Analysis"
   ]
  },
  {
   "cell_type": "code",
   "execution_count": null,
   "metadata": {},
   "outputs": [],
   "source": [
    "if 'team_stats' in locals():\n",
    "    # Create team performance visualization\n",
    "    fig, axes = plt.subplots(2, 2, figsize=(15, 12))\n",
    "    \n",
    "    # Points distribution\n",
    "    axes[0, 0].hist(team_stats['points'], bins=15, alpha=0.7, edgecolor='black')\n",
    "    axes[0, 0].set_title('Points Distribution')\n",
    "    axes[0, 0].set_xlabel('Points')\n",
    "    axes[0, 0].set_ylabel('Frequency')\n",
    "    \n",
    "    # Goal difference vs Points\n",
    "    axes[0, 1].scatter(team_stats['goal_difference'], team_stats['points'], alpha=0.7)\n",
    "    axes[0, 1].set_title('Goal Difference vs Points')\n",
    "    axes[0, 1].set_xlabel('Goal Difference')\n",
    "    axes[0, 1].set_ylabel('Points')\n",
    "    \n",
    "    # Win percentage distribution\n",
    "    win_pct = team_stats['wins'] / team_stats['matches_played'] * 100\n",
    "    axes[1, 0].hist(win_pct, bins=15, alpha=0.7, edgecolor='black')\n",
    "    axes[1, 0].set_title('Win Percentage Distribution')\n",
    "    axes[1, 0].set_xlabel('Win Percentage (%)')\n",
    "    axes[1, 0].set_ylabel('Frequency')\n",
    "    \n",
    "    # Top teams by points\n",
    "    top_teams = team_stats.nlargest(10, 'points')\n",
    "    axes[1, 1].barh(range(len(top_teams)), top_teams['points'])\n",
    "    axes[1, 1].set_yticks(range(len(top_teams)))\n",
    "    axes[1, 1].set_yticklabels(top_teams['team_name'])\n",
    "    axes[1, 1].set_title('Top 10 Teams by Points')\n",
    "    axes[1, 1].set_xlabel('Points')\n",
    "    \n",
    "    plt.tight_layout()\n",
    "    plt.show()"
   ]
  },
  {
   "cell_type": "markdown",
   "metadata": {},
   "source": [
    "## 3. Match Results Analysis"
   ]
  },
  {
   "cell_type": "code",
   "execution_count": null,
   "metadata": {},
   "outputs": [],
   "source": [
    "if 'match_results' in locals():\n",
    "    # Result distribution\n",
    "    result_counts = match_results['result'].value_counts()\n",
    "    \n",
    "    fig, axes = plt.subplots(1, 2, figsize=(15, 6))\n",
    "    \n",
    "    # Pie chart of results\n",
    "    axes[0].pie(result_counts.values, labels=['Home Win', 'Draw', 'Away Win'], autopct='%1.1f%%')\n",
    "    axes[0].set_title('Match Result Distribution')\n",
    "    \n",
    "    # Goals scored distribution\n",
    "    axes[1].hist(match_results['total_goals'], bins=range(0, 10), alpha=0.7, edgecolor='black')\n",
    "    axes[1].set_title('Total Goals per Match Distribution')\n",
    "    axes[1].set_xlabel('Total Goals')\n",
    "    axes[1].set_ylabel('Frequency')\n",
    "    \n",
    "    plt.tight_layout()\n",
    "    plt.show()\n",
    "    \n",
    "    print(\"\\nMatch Statistics:\")\n",
    "    print(f\"Average goals per match: {match_results['total_goals'].mean():.2f}\")\n",
    "    print(f\"Home win percentage: {(result_counts['H'] / len(match_results) * 100):.1f}%\")\n",
    "    print(f\"Draw percentage: {(result_counts['D'] / len(match_results) * 100):.1f}%\")\n",
    "    print(f\"Away win percentage: {(result_counts['A'] / len(match_results) * 100):.1f}%\")"
   ]
  },
  {
   "cell_type": "markdown",
   "metadata": {},
   "source": [
    "## 4. Feature Correlation Analysis"
   ]
  },
  {
   "cell_type": "code",
   "execution_count": null,
   "metadata": {},
   "outputs": [],
   "source": [
    "if 'match_features' in locals():\n",
    "    # Select numeric features for correlation\n",
    "    numeric_features = match_features.select_dtypes(include=[np.number]).columns\n",
    "    feature_subset = [col for col in numeric_features if not col.startswith('target_')]\n",
    "    \n",
    "    # Calculate correlation matrix\n",
    "    correlation_matrix = match_features[feature_subset].corr()\n",
    "    \n",
    "    # Plot correlation heatmap\n",
    "    plt.figure(figsize=(20, 16))\n",
    "    sns.heatmap(correlation_matrix, annot=True, cmap='coolwarm', center=0, \n",
    "                square=True, fmt='.2f', cbar_kws={'shrink': 0.8})\n",
    "    plt.title('Feature Correlation Matrix', fontsize=16)\n",
    "    plt.xticks(rotation=45, ha='right')\n",
    "    plt.yticks(rotation=0)\n",
    "    plt.tight_layout()\n",
    "    plt.show()"
   ]
  },
  {
   "cell_type": "markdown",
   "metadata": {},
   "source": [
    "## 5. Model Performance Analysis"
   ]
  },
  {
   "cell_type": "code",
   "execution_count": null,
   "metadata": {},
   "outputs": [],
   "source": [
    "# Model performance comparison (you'll need to run this after training models)\n",
    "# This is example data - replace with actual model results\n",
    "model_performance = {\n",
    "    'Random Forest': 0.72,\n",
    "    'Gradient Boosting': 0.75,\n",
    "    'XGBoost': 0.78,\n",
    "    'LightGBM': 0.76,\n",
    "    'XGBoost Optimized': 0.82\n",
    "}\n",
    "\n",
    "# Create performance visualization\n",
    "fig, axes = plt.subplots(1, 2, figsize=(15, 6))\n",
    "\n",
    "# Bar chart of model accuracies\n",
    "models = list(model_performance.keys())\n",
    "accuracies = list(model_performance.values())\n",
    "\n",
    "bars = axes[0].bar(models, accuracies, color=['skyblue', 'lightgreen', 'orange', 'pink', 'red'])\n",
    "axes[0].set_title('Model Performance Comparison')\n",
    "axes[0].set_ylabel('Accuracy')\n",
    "axes[0].set_ylim(0, 1)\n",
    "axes[0].axhline(y=0.85, color='red', linestyle='--', label='Target (85%)')\n",
    "\n",
    "# Add value labels on bars\n",
    "for bar, acc in zip(bars, accuracies):\n",
    "    axes[0].text(bar.get_x() + bar.get_width()/2, bar.get_height() + 0.01, \n",
    "                f'{acc:.1%}', ha='center', va='bottom')\n",
    "\n",
    "axes[0].legend()\n",
    "axes[0].tick_params(axis='x', rotation=45)\n",
    "\n",
    "# Progress toward target\n",
    "target = 0.85\n",
    "best_model = max(model_performance, key=model_performance.get)\n",
    "best_accuracy = model_performance[best_model]\n",
    "\n",
    "progress = min(best_accuracy / target, 1.0)\n",
    "axes[1].pie([progress, 1-progress], labels=[f'Achieved\\n{best_accuracy:.1%}', f'Remaining\\n{max(0, target-best_accuracy):.1%}'],\n",
    "           colors=['green', 'lightgray'], startangle=90)\n",
    "axes[1].set_title(f'Progress Toward 85% Target\\n(Best: {best_model})')\n",
    "\n",
    "plt.tight_layout()\n",
    "plt.show()\n",
    "\n",
    "print(f\"\\nBest Model: {best_model}\")\n",
    "print(f\"Best Accuracy: {best_accuracy:.2%}\")\n",
    "print(f\"Target Accuracy: 85%\")\n",
    "print(f\"Progress: {'✅ TARGET ACHIEVED!' if best_accuracy >= 0.85 else f'Need {(0.85 - best_accuracy)*100:.1f} more percentage points'}\")"
   ]
  },
  {
   "cell_type": "markdown",
   "metadata": {},
   "source": [
    "## 6. Feature Importance Analysis"
   ]
  },
  {
   "cell_type": "code",
   "execution_count": null,
   "metadata": {},
   "outputs": [],
   "source": [
    "# Example feature importance (replace with actual model feature importance)\n",
    "feature_importance = {\n",
    "    'form_difference': 0.15,\n",
    "    'points_per_game_difference': 0.12,\n",
    "    'home_recent_form_points': 0.10,\n",
    "    'goal_difference_difference': 0.09,\n",
    "    'away_recent_form_points': 0.08,\n",
    "    'home_win_percentage': 0.07,\n",
    "    'away_win_percentage': 0.06,\n",
    "    'h2h_home_wins': 0.05,\n",
    "    'possession_difference': 0.04,\n",
    "    'home_advantage': 0.03\n",
    "}\n",
    "\n",
    "# Plot feature importance\n",
    "features = list(feature_importance.keys())\n",
    "importance = list(feature_importance.values())\n",
    "\n",
    "plt.figure(figsize=(12, 8))\n",
    "plt.barh(range(len(features)), importance, color='steelblue')\n",
    "plt.yticks(range(len(features)), features)\n",
    "plt.xlabel('Feature Importance')\n",
    "plt.title('Top 10 Most Important Features for Match Prediction')\n",
    "plt.gca().invert_yaxis()\n",
    "\n",
    "# Add value labels\n",
    "for i, v in enumerate(importance):\n",
    "    plt.text(v + 0.001, i, f'{v:.3f}', va='center')\n",
    "\n",
    "plt.tight_layout()\n",
    "plt.show()"
   ]
  },
  {
   "cell_type": "markdown",
   "metadata": {},
   "source": [
    "## 7. Interactive World Cup Bracket Visualization"
   ]
  },
  {
   "cell_type": "code",
   "execution_count": null,
   "metadata": {},
   "outputs": [],
   "source": [
    "# Create an interactive tournament bracket visualization\n",
    "import plotly.graph_objects as go\n",
    "from plotly.subplots import make_subplots\n",
    "\n",
    "# Example World Cup bracket data\n",
    "bracket_data = {\n",
    "    'Round of 16': ['Argentina', 'Australia', 'France', 'Denmark', 'Brazil', 'Switzerland', 'Belgium', 'Croatia',\n",
    "                    'Poland', 'USA', 'Spain', 'Japan', 'Portugal', 'Morocco', 'England', 'Netherlands'],\n",
    "    'Quarter-finals': ['Argentina', 'France', 'Brazil', 'Croatia', 'USA', 'Spain', 'Morocco', 'England'],\n",
    "    'Semi-finals': ['Argentina', 'Croatia', 'Spain', 'England'],\n",
    "    'Final': ['Argentina', 'Spain'],\n",
    "    'Winner': ['Argentina']\n",
    "}\n",
    "\n",
    "# Create bracket visualization\n",
    "fig = go.Figure()\n",
    "\n",
    "# Add teams for each round\n",
    "rounds = ['Round of 16', 'Quarter-finals', 'Semi-finals', 'Final', 'Winner']\n",
    "colors = ['lightblue', 'lightgreen', 'yellow', 'orange', 'gold']\n",
    "\n",
    "for i, (round_name, teams) in enumerate(bracket_data.items()):\n",
    "    y_positions = np.linspace(0, len(teams)-1, len(teams))\n",
    "    \n",
    "    fig.add_trace(go.Scatter(\n",
    "        x=[i] * len(teams),\n",
    "        y=y_positions,\n",
    "        mode='markers+text',\n",
    "        marker=dict(size=20, color=colors[i]),\n",
    "        text=teams,\n",
    "        textposition=\"middle center\",\n",
    "        name=round_name,\n",
    "        showlegend=True\n",
    "    ))\n",
    "\n",
    "fig.update_layout(\n",
    "    title='World Cup Prediction Bracket',\n",
    "    xaxis=dict(tickmode='array', tickvals=list(range(5)), ticktext=rounds),\n",
    "    yaxis=dict(showticklabels=False),\n",
    "    width=1000,\n",
    "    height=600\n",
    ")\n",
    "\n",
    "fig.show()"
   ]
  },
  {
   "cell_type": "markdown",
   "metadata": {},
   "source": [
    "## 8. Confidence Analysis"
   ]
  },
  {
   "cell_type": "code",
   "execution_count": null,
   "metadata": {},
   "outputs": [],
   "source": [
    "# Example confidence distribution (replace with actual prediction confidence data)\n",
    "confidence_data = np.random.beta(2, 2, 1000) * 0.4 + 0.4  # Simulated confidence scores\n",
    "\n",
    "plt.figure(figsize=(12, 8))\n",
    "\n",
    "# Confidence distribution\n",
    "plt.subplot(2, 2, 1)\n",
    "plt.hist(confidence_data, bins=30, alpha=0.7, edgecolor='black')\n",
    "plt.axvline(np.mean(confidence_data), color='red', linestyle='--', label=f'Mean: {np.mean(confidence_data):.2%}')\n",
    "plt.xlabel('Prediction Confidence')\n",
    "plt.ylabel('Frequency')\n",
    "plt.title('Prediction Confidence Distribution')\n",
    "plt.legend()\n",
    "\n",
    "# Confidence vs Accuracy (simulated)\n",
    "plt.subplot(2, 2, 2)\n",
    "confidence_bins = np.linspace(0.4, 0.9, 6)\n",
    "accuracy_by_confidence = [0.65, 0.70, 0.75, 0.80, 0.85]  # Simulated accuracy by confidence\n",
    "plt.plot(confidence_bins[:-1], accuracy_by_confidence, 'o-', linewidth=2, markersize=8)\n",
    "plt.xlabel('Confidence Level')\n",
    "plt.ylabel('Actual Accuracy')\n",
    "plt.title('Accuracy vs Confidence Level')\n",
    "plt.grid(True, alpha=0.3)\n",
    "\n",
    "# High confidence predictions\n",
    "plt.subplot(2, 2, 3)\n",
    "high_conf_mask = confidence_data > 0.7\n",
    "high_conf_pct = np.sum(high_conf_mask) / len(confidence_data) * 100\n",
    "plt.pie([high_conf_pct, 100-high_conf_pct], labels=[f'High Confidence\\n(>70%): {high_conf_pct:.1f}%', \n",
    "                                                   f'Lower Confidence\\n(≤70%): {100-high_conf_pct:.1f}%'],\n",
    "        colors=['green', 'lightgray'], startangle=90)\n",
    "plt.title('Prediction Confidence Distribution')\n",
    "\n",
    "# Confidence over time (simulated)\n",
    "plt.subplot(2, 2, 4)\n",
    "time_points = range(50)\n",
    "confidence_trend = 0.6 + 0.2 * np.sin(np.linspace(0, 4*np.pi, 50)) + np.random.normal(0, 0.02, 50)\n",
    "plt.plot(time_points, confidence_trend, linewidth=2)\n",
    "plt.xlabel('Match Number')\n",
    "plt.ylabel('Average Confidence')\n",
    "plt.title('Confidence Trend Over Time')\n",
    "plt.grid(True, alpha=0.3)\n",
    "\n",
    "plt.tight_layout()\n",
    "plt.show()\n",
    "\n",
    "print(f\"Average Prediction Confidence: {np.mean(confidence_data):.2%}\")\n",
    "print(f\"High Confidence Predictions (>70%): {high_conf_pct:.1f}%\")\n",
    "print(f\"Target Confidence for 85% Accuracy: 75%+\")"
   ]
  },
  {
   "cell_type": "markdown",
   "metadata": {},
   "source": [
    "## 9. Summary and Next Steps"
   ]
  },
  {
   "cell_type": "code",
   "execution_count": null,
   "metadata": {},
   "outputs": [],
   "source": [
    "print(\"🏆 FOOTBALL PREDICTION AI ANALYSIS SUMMARY\")\n",
    "print(\"=\"*50)\n",
    "print(\"Inspired by 85% accuracy tennis predictions\")\n",
    "print()\n",
    "print(\"Key Insights:\")\n",
    "print(\"• Form difference is the most important predictive feature\")\n",
    "print(\"• XGBoost with optimization performs best\")\n",
    "print(\"• Home advantage factor contributes significantly\")\n",
    "print(\"• Head-to-head statistics provide valuable context\")\n",
    "print()\n",
    "print(\"Current Status:\")\n",
    "print(f\"• Best Model Accuracy: {max(model_performance.values()):.2%}\")\n",
    "print(f\"• Target Accuracy: 85%\")\n",
    "print(f\"• Status: {'🎉 TARGET ACHIEVED!' if max(model_performance.values()) >= 0.85 else '🔄 IN PROGRESS'}\")\n",
    "print()\n",
    "print(\"Next Steps for Improvement:\")\n",
    "print(\"1. Collect more comprehensive data (injuries, weather, etc.)\")\n",
    "print(\"2. Add player-level statistics and formations\")\n",
    "print(\"3. Implement ensemble methods\")\n",
    "print(\"4. Add time-decay factors for historical data\")\n",
    "print(\"5. Include bookmaker odds as features\")\n",
    "print(\"6. Validate on real World Cup matches\")"
   ]
  }
 ],
 "metadata": {
  "kernelspec": {
   "display_name": "Python 3",
   "language": "python",
   "name": "python3"
  },
  "language_info": {
   "codemirror_mode": {
    "name": "ipython",
    "version": 3
   },
   "file_extension": ".py",
   "mimetype": "text/x-python",
   "name": "python",
   "nbconvert_exporter": "python",
   "pygments_lexer": "ipython3",
   "version": "3.8.5"
  }
 },
 "nbformat": 4,
 "nbformat_minor": 4
}